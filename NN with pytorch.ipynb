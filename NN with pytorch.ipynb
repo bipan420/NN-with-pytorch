{
 "cells": [
  {
   "cell_type": "code",
   "execution_count": 1,
   "metadata": {},
   "outputs": [],
   "source": [
    "import torch\n",
    "import torch.nn as nn\n",
    "import torch.optim as optim\n",
    "import torch.nn.functional as F\n",
    "from torch.utils.data import DataLoader\n",
    "from torchvision import datasets\n",
    "import torchvision.transforms as transforms"
   ]
  },
  {
   "cell_type": "code",
   "execution_count": 2,
   "metadata": {},
   "outputs": [],
   "source": [
    "class NN(nn.Module):\n",
    "    #here, num_classes = number of labels\n",
    "    def __init__(self,input_size,num_classes):\n",
    "        super(NN,self).__init__()\n",
    "        self.fc1 = nn.Linear(input_size,50)\n",
    "        self.fc2 = nn.Linear(50,num_classes)\n",
    "    \n",
    "    def forward(self,x):\n",
    "        #here, x is my input,it is passed as parameter to the nn.Linear\n",
    "        #nn.Linear expects the input so that it can apply forward pass on it.\n",
    "        #note that self.fc1 is variable referencing to a nn.Linear layer,so anything passed to it \n",
    "        #is reflected to the nn.Linear\n",
    "        x = F.relu(self.fc1(x))\n",
    "        x = self.fc2(x)\n",
    "        return x"
   ]
  },
  {
   "cell_type": "code",
   "execution_count": 3,
   "metadata": {},
   "outputs": [
    {
     "name": "stdout",
     "output_type": "stream",
     "text": [
      "HELLO\n",
      "HELLO\n"
     ]
    }
   ],
   "source": [
    "#more explanation of the above thing\n",
    "def sayHello(text):\n",
    "    return text.upper()\n",
    "print(sayHello('Hello'))\n",
    "#I can also do\n",
    "hello = sayHello\n",
    "print(hello('Hello'))"
   ]
  },
  {
   "cell_type": "code",
   "execution_count": 4,
   "metadata": {},
   "outputs": [],
   "source": [
    "device = torch.device('cuda' if torch.cuda.is_available() else 'cpu')"
   ]
  },
  {
   "cell_type": "code",
   "execution_count": 5,
   "metadata": {},
   "outputs": [],
   "source": [
    "#Hyperparameters\n",
    "input_size=784\n",
    "num_classes=10\n",
    "learning_rate=0.001\n",
    "batch_size=64\n",
    "num_epochs = 1"
   ]
  },
  {
   "cell_type": "code",
   "execution_count": 6,
   "metadata": {},
   "outputs": [
    {
     "name": "stdout",
     "output_type": "stream",
     "text": [
      "Downloading http://yann.lecun.com/exdb/mnist/train-images-idx3-ubyte.gz to dataset/MNIST/raw/train-images-idx3-ubyte.gz\n"
     ]
    },
    {
     "data": {
      "application/vnd.jupyter.widget-view+json": {
       "model_id": "4efd03f0aeb74b7082833e532463b188",
       "version_major": 2,
       "version_minor": 0
      },
      "text/plain": [
       "HBox(children=(FloatProgress(value=1.0, bar_style='info', layout=Layout(width='20px'), max=1.0), HTML(value=''…"
      ]
     },
     "metadata": {},
     "output_type": "display_data"
    },
    {
     "name": "stdout",
     "output_type": "stream",
     "text": [
      "Extracting dataset/MNIST/raw/train-images-idx3-ubyte.gz to dataset/MNIST/raw\n",
      "Downloading http://yann.lecun.com/exdb/mnist/train-labels-idx1-ubyte.gz to dataset/MNIST/raw/train-labels-idx1-ubyte.gz\n"
     ]
    },
    {
     "data": {
      "application/vnd.jupyter.widget-view+json": {
       "model_id": "2603fa5dc08a4030b951660c7e970831",
       "version_major": 2,
       "version_minor": 0
      },
      "text/plain": [
       "HBox(children=(FloatProgress(value=1.0, bar_style='info', layout=Layout(width='20px'), max=1.0), HTML(value=''…"
      ]
     },
     "metadata": {},
     "output_type": "display_data"
    },
    {
     "name": "stdout",
     "output_type": "stream",
     "text": [
      "Extracting dataset/MNIST/raw/train-labels-idx1-ubyte.gz to dataset/MNIST/raw\n",
      "Downloading http://yann.lecun.com/exdb/mnist/t10k-images-idx3-ubyte.gz to dataset/MNIST/raw/t10k-images-idx3-ubyte.gz\n"
     ]
    },
    {
     "data": {
      "application/vnd.jupyter.widget-view+json": {
       "model_id": "10fe2a79975146958ada2d9a9e849c50",
       "version_major": 2,
       "version_minor": 0
      },
      "text/plain": [
       "HBox(children=(FloatProgress(value=1.0, bar_style='info', layout=Layout(width='20px'), max=1.0), HTML(value=''…"
      ]
     },
     "metadata": {},
     "output_type": "display_data"
    },
    {
     "name": "stdout",
     "output_type": "stream",
     "text": [
      "Extracting dataset/MNIST/raw/t10k-images-idx3-ubyte.gz to dataset/MNIST/raw\n",
      "Downloading http://yann.lecun.com/exdb/mnist/t10k-labels-idx1-ubyte.gz to dataset/MNIST/raw/t10k-labels-idx1-ubyte.gz\n"
     ]
    },
    {
     "data": {
      "application/vnd.jupyter.widget-view+json": {
       "model_id": "f544e74ed0494254bf36529ccd200d87",
       "version_major": 2,
       "version_minor": 0
      },
      "text/plain": [
       "HBox(children=(FloatProgress(value=1.0, bar_style='info', layout=Layout(width='20px'), max=1.0), HTML(value=''…"
      ]
     },
     "metadata": {},
     "output_type": "display_data"
    },
    {
     "name": "stdout",
     "output_type": "stream",
     "text": [
      "Extracting dataset/MNIST/raw/t10k-labels-idx1-ubyte.gz to dataset/MNIST/raw\n",
      "Processing...\n",
      "Done!\n"
     ]
    },
    {
     "name": "stderr",
     "output_type": "stream",
     "text": [
      "/Library/Frameworks/Python.framework/Versions/3.8/lib/python3.8/site-packages/torchvision/datasets/mnist.py:469: UserWarning: The given NumPy array is not writeable, and PyTorch does not support non-writeable tensors. This means you can write to the underlying (supposedly non-writeable) NumPy array using the tensor. You may want to copy the array to protect its data or make it writeable before converting it to a tensor. This type of warning will be suppressed for the rest of this program. (Triggered internally at  ../torch/csrc/utils/tensor_numpy.cpp:141.)\n",
      "  return torch.from_numpy(parsed.astype(m[2], copy=False)).view(*s)\n"
     ]
    }
   ],
   "source": [
    "# loading Data\n",
    "#H x W x C <- C x H x W\n",
    "train_dataset = datasets.MNIST(root='dataset/',train=True,transform=transforms.ToTensor(),download=True)\n",
    "train_loader = DataLoader(dataset=train_dataset,batch_size=batch_size,shuffle=True)\n",
    "test_dataset = datasets.MNIST(root='dataset/',train=False,transform=transforms.ToTensor(),download=True)\n",
    "test_loader = DataLoader(dataset=test_dataset,batch_size=batch_size,shuffle=True)"
   ]
  },
  {
   "cell_type": "code",
   "execution_count": 7,
   "metadata": {},
   "outputs": [],
   "source": [
    "#initialization of the network\n",
    "model = NN(input_size=input_size,num_classes=num_classes).to(device)"
   ]
  },
  {
   "cell_type": "code",
   "execution_count": 11,
   "metadata": {},
   "outputs": [],
   "source": [
    "#loss and optimizer\n",
    "criterion = nn.CrossEntropyLoss()\n",
    "optimizer = optim.Adam(model.parameters(),lr=learning_rate)"
   ]
  },
  {
   "cell_type": "code",
   "execution_count": 24,
   "metadata": {},
   "outputs": [
    {
     "name": "stdout",
     "output_type": "stream",
     "text": [
      "64\n",
      "64\n",
      "784\n",
      "784\n"
     ]
    }
   ],
   "source": [
    "for batch,(data,targets) in enumerate(train_loader):\n",
    "    data = data.to(device=device)\n",
    "    print(data.shape[0])\n",
    "    data = data.reshape(data.shape[0],-1)\n",
    "    print(data.shape[0])\n",
    "    \n",
    "    data = data.reshape(-1,data.shape[0])\n",
    "    print(data.shape[0])\n",
    "    \n",
    "    data = data.view(data.shape[0],-1)\n",
    "    print(data.shape[0])\n",
    "    break"
   ]
  },
  {
   "cell_type": "code",
   "execution_count": 35,
   "metadata": {},
   "outputs": [
    {
     "name": "stdout",
     "output_type": "stream",
     "text": [
      "Checking accuracy on training data\n",
      "tensor([6, 3, 2, 5, 2, 9, 9, 2, 7, 4, 8, 9, 0, 3, 8, 0, 5, 1, 5, 6, 8, 2, 3, 7,\n",
      "        0, 2, 0, 0, 3, 3, 1, 2, 4, 1, 8, 5, 2, 7, 5, 5, 0, 3, 3, 7, 5, 1, 5, 6,\n",
      "        5, 8, 7, 7, 1, 6, 5, 0, 8, 2, 9, 2, 8, 6, 9, 0])\n",
      "torch.Size([64])\n",
      "Got 64 / 64 with accuracy 100.00\n",
      "Checking accuracy on test data\n",
      "tensor([4, 9, 3, 3, 6, 2, 0, 5, 7, 1, 2, 1, 4, 0, 4, 3, 7, 4, 9, 9, 2, 9, 8, 2,\n",
      "        3, 7, 7, 7, 3, 5, 9, 3, 9, 1, 5, 0, 8, 0, 2, 5, 1, 6, 0, 1, 8, 3, 4, 0,\n",
      "        9, 2, 0, 4, 3, 0, 9, 3, 3, 3, 4, 9, 5, 8, 4, 0])\n",
      "torch.Size([64])\n",
      "Got 61 / 64 with accuracy 95.31\n"
     ]
    }
   ],
   "source": [
    "#Train Network\n",
    "for epoch in range(num_epochs):\n",
    "    for batch_idx,(data,targets) in enumerate(train_loader):\n",
    "        data = data.to(device=device)\n",
    "        targets = targets.to(device=device)\n",
    "        \n",
    "        #get the correct shape\n",
    "        data = data.view(data.shape[0],-1)\n",
    "        \n",
    "        #forward\n",
    "#         scores = model(data)\n",
    "        scores = model.forward(data)\n",
    "        #training loss\n",
    "        loss = criterion(scores,targets)\n",
    "        \n",
    "        #backward\n",
    "        optimizer.zero_grad()\n",
    "        loss.backward()\n",
    "        \n",
    "        #optimizing the parameters\n",
    "        optimizer.step()\n",
    "        \n",
    "    \n",
    "#Checking the accuracy of the model on training and test set \n",
    "def check_accuracy(loader,model):\n",
    "    if loader.dataset.train:\n",
    "        print(\"Checking accuracy on training data\")\n",
    "    else:\n",
    "        print(\"Checking accuracy on test data\")\n",
    "    \n",
    "    num_correct = 0\n",
    "    num_samples = 0\n",
    "    model.eval()\n",
    "    \n",
    "    with torch.no_grad():\n",
    "        for x, y in loader:\n",
    "#             x = x.to(device=device)\n",
    "#             y = y.to(devivce=device)\n",
    "            x = x.view(x.shape[0],-1)\n",
    "            \n",
    "            scores = model(x)\n",
    "            # here, max(1) looks for max value on each row, from top to bottom\n",
    "            #eg, [0,0,0,0,0,5,0,0,0,0] returns 5\n",
    "            _,predictions = scores.max(1)\n",
    "            print(predictions)\n",
    "            print(predictions.size())\n",
    "            num_correct +=(predictions == y).sum()\n",
    "            num_samples += predictions.size(0)\n",
    "            break\n",
    "        print(f'Got {num_correct} / {num_samples} with accuracy {float(num_correct)/float(num_samples)*100:.2f}')\n",
    "    model.train()\n",
    "\n",
    "check_accuracy(train_loader,model)\n",
    "check_accuracy(test_loader,model)"
   ]
  },
  {
   "cell_type": "code",
   "execution_count": 33,
   "metadata": {},
   "outputs": [
    {
     "data": {
      "text/plain": [
       "torch.return_types.max(\n",
       "values=tensor([4, 9]),\n",
       "indices=tensor([3, 1]))"
      ]
     },
     "execution_count": 33,
     "metadata": {},
     "output_type": "execute_result"
    }
   ],
   "source": [
    "a = torch.tensor([[1,2,3,4],[1,9,3,7]])\n",
    "a.max(1)"
   ]
  },
  {
   "cell_type": "code",
   "execution_count": null,
   "metadata": {},
   "outputs": [],
   "source": []
  }
 ],
 "metadata": {
  "kernelspec": {
   "display_name": "Python 3",
   "language": "python",
   "name": "python3"
  },
  "language_info": {
   "codemirror_mode": {
    "name": "ipython",
    "version": 3
   },
   "file_extension": ".py",
   "mimetype": "text/x-python",
   "name": "python",
   "nbconvert_exporter": "python",
   "pygments_lexer": "ipython3",
   "version": "3.8.1"
  }
 },
 "nbformat": 4,
 "nbformat_minor": 4
}
