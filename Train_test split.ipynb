{
 "cells": [
  {
   "cell_type": "code",
   "execution_count": 2,
   "metadata": {},
   "outputs": [
    {
     "data": {
      "text/plain": [
       "<torch._C.Generator at 0x108c76d30>"
      ]
     },
     "execution_count": 2,
     "metadata": {},
     "output_type": "execute_result"
    }
   ],
   "source": [
    "from torch import nn,optim\n",
    "import torch\n",
    "from torch.utils.data import Dataset,DataLoader\n",
    "import matplotlib.pyplot as plt\n",
    "import numpy as np\n",
    "torch.manual_seed(1)"
   ]
  },
  {
   "cell_type": "code",
   "execution_count": 4,
   "metadata": {},
   "outputs": [],
   "source": [
    "class Data(Dataset):\n",
    "    def __init__(self,train=True):\n",
    "        self.x = torch.arange(-3.0,3.0,0.1).view(-1,1)\n",
    "        self.f = -3 * self.x + 1\n",
    "        self.y = self.f - 0.3 * torch.randn(self.x.size())\n",
    "        self.len = self.x.size()[0]\n",
    "        \n",
    "        #outliers\n",
    "        if train == True:\n",
    "            self.y[0] = 0\n",
    "            self.y[50:55] = 20\n",
    "        else:\n",
    "            pass\n",
    "    def __getitem(self,index):\n",
    "        return self.x[index],self.y[index]\n",
    "    def __len__(self):\n",
    "        return self.len"
   ]
  },
  {
   "cell_type": "code",
   "execution_count": 5,
   "metadata": {},
   "outputs": [],
   "source": [
    "train_data = Data()\n",
    "val_data = Data(train=False)"
   ]
  },
  {
   "cell_type": "code",
   "execution_count": 6,
   "metadata": {},
   "outputs": [],
   "source": [
    "class linear_regression(nn.Module):\n",
    "    def __init__(self,inp_size,out_size):\n",
    "        super(linear_regression,self).__init__()\n",
    "        self.linear = nn.Linear(inp_size,out_size,bais=True)\n",
    "    \n",
    "    def forward(self,x):\n",
    "        yhat = self.linear(x)\n",
    "        return yhat"
   ]
  },
  {
   "cell_type": "code",
   "execution_count": 7,
   "metadata": {},
   "outputs": [],
   "source": [
    "criterion  = nn.MSELoss()\n",
    "trainloader = DataLoader(dataset=train_data,batch_size=1)"
   ]
  },
  {
   "cell_type": "code",
   "execution_count": 8,
   "metadata": {},
   "outputs": [],
   "source": [
    "learning_rates = [0.0001,0.001,0.01,0.1]\n",
    "train_error = torch.zeros(len(learning_rates))\n",
    "validation_error = torch.zeros(len(learning_rates))\n",
    "\n",
    "MODELS=[]"
   ]
  },
  {
   "cell_type": "code",
   "execution_count": null,
   "metadata": {},
   "outputs": [],
   "source": [
    "def train_model_with_lr(iter,lr_list):\n",
    "    #go through different learning rate\n",
    "    for i,lr in enumerate(lr_list):\n",
    "        model = linear_regression(1,1)\n",
    "        optimizer = optim.SGD(model.parameters(),lr=lr)\n",
    "        for epoch in range(iter):\n",
    "            for x,y in trainloader:\n",
    "                yhat = model.forward(x)\n",
    "                loss = criterion(yhat,y)\n",
    "                optimizer.zero_grad()\n",
    "                loss.backward()\n",
    "                optimizer.step()\n",
    "                \n",
    "        #train loss from each lr        \n",
    "        Yhat = model(train_data.x)\n",
    "        train_loss = criterion(Yhat,train_data.y)\n",
    "        train_error[i] = train_loss.item()\n",
    "        \n",
    "        #validation data\n",
    "        Yhat = model(val_data.x)\n",
    "        val_loss = criterion(Yhat,val_data.y)\n",
    "        validation_error[i] = val_loss.item()\n",
    "        MODELS.append(model)\n",
    "train_model_with_lr(5,learning_rates)\n",
    "                "
   ]
  }
 ],
 "metadata": {
  "kernelspec": {
   "display_name": "Python 3",
   "language": "python",
   "name": "python3"
  },
  "language_info": {
   "codemirror_mode": {
    "name": "ipython",
    "version": 3
   },
   "file_extension": ".py",
   "mimetype": "text/x-python",
   "name": "python",
   "nbconvert_exporter": "python",
   "pygments_lexer": "ipython3",
   "version": "3.8.1"
  }
 },
 "nbformat": 4,
 "nbformat_minor": 4
}
