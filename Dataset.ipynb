{
 "cells": [
  {
   "cell_type": "code",
   "execution_count": 40,
   "metadata": {},
   "outputs": [],
   "source": [
    "import torch\n",
    "from torch.utils.data import Dataset\n",
    "torch.manual_seed(1)\n",
    "from torchvision import transforms"
   ]
  },
  {
   "cell_type": "code",
   "execution_count": 25,
   "metadata": {},
   "outputs": [],
   "source": [
    "#simple dataset\n",
    "class toy_set(Dataset):\n",
    "    def __init__(self,length=100,transform=None):\n",
    "        self.len = length\n",
    "        self.x = 2*torch.ones(length,2)\n",
    "        self.y = torch.ones(length,1)\n",
    "        self.transform = transform\n",
    "    def __getitem__(self,index):\n",
    "        sample = self.x[index],self.y[index]\n",
    "        if self.transform:\n",
    "            sample = self.transform(sample)\n",
    "        return sample\n",
    "    \n",
    "    def __len__(self):\n",
    "        return self.len"
   ]
  },
  {
   "cell_type": "code",
   "execution_count": 26,
   "metadata": {},
   "outputs": [
    {
     "name": "stdout",
     "output_type": "stream",
     "text": [
      "(tensor([2., 2.]), tensor([1.]))\n",
      "100\n"
     ]
    }
   ],
   "source": [
    "our_dataset = toy_set()\n",
    "#__getitem__\n",
    "print(our_dataset[0])\n",
    "#len\n",
    "print(len(our_dataset))"
   ]
  },
  {
   "cell_type": "code",
   "execution_count": 27,
   "metadata": {},
   "outputs": [
    {
     "name": "stdout",
     "output_type": "stream",
     "text": [
      "index:0, x: tensor([2., 2.]), y: tensor([1.])\n",
      "index:1, x: tensor([2., 2.]), y: tensor([1.])\n",
      "index:2, x: tensor([2., 2.]), y: tensor([1.])\n"
     ]
    }
   ],
   "source": [
    "for i in range(3):\n",
    "    x,y = our_dataset[i]\n",
    "    print(f'index:{i}, x: {x}, y: {y}')"
   ]
  },
  {
   "cell_type": "code",
   "execution_count": 37,
   "metadata": {},
   "outputs": [],
   "source": [
    "class add_mult(object):\n",
    "    #constructor \n",
    "    def __init__(self,addx=1,muly=2):\n",
    "        self.addx = addx\n",
    "        self.muly = muly\n",
    "    #Executer method    \n",
    "    def __call__(self,sample):\n",
    "        x = sample[0]\n",
    "        y = sample[1]\n",
    "        y = y * self.muly\n",
    "        x = x + self.addx\n",
    "        \n",
    "        sample = x,y\n",
    "        return sample"
   ]
  },
  {
   "cell_type": "code",
   "execution_count": 38,
   "metadata": {},
   "outputs": [],
   "source": [
    "a_m = add_mult()\n",
    "data_set = toy_set()"
   ]
  },
  {
   "cell_type": "code",
   "execution_count": 39,
   "metadata": {},
   "outputs": [
    {
     "name": "stdout",
     "output_type": "stream",
     "text": [
      "Before Transformation:Index:0,x:tensor([2., 2.]),y:tensor([1.])\n",
      "After Transformation:Index:0,x:tensor([3., 3.]),y:tensor([2.])\n",
      "Before Transformation:Index:1,x:tensor([2., 2.]),y:tensor([1.])\n",
      "After Transformation:Index:1,x:tensor([3., 3.]),y:tensor([2.])\n",
      "Before Transformation:Index:2,x:tensor([2., 2.]),y:tensor([1.])\n",
      "After Transformation:Index:2,x:tensor([3., 3.]),y:tensor([2.])\n",
      "Before Transformation:Index:3,x:tensor([2., 2.]),y:tensor([1.])\n",
      "After Transformation:Index:3,x:tensor([3., 3.]),y:tensor([2.])\n",
      "Before Transformation:Index:4,x:tensor([2., 2.]),y:tensor([1.])\n",
      "After Transformation:Index:4,x:tensor([3., 3.]),y:tensor([2.])\n",
      "Before Transformation:Index:5,x:tensor([2., 2.]),y:tensor([1.])\n",
      "After Transformation:Index:5,x:tensor([3., 3.]),y:tensor([2.])\n",
      "Before Transformation:Index:6,x:tensor([2., 2.]),y:tensor([1.])\n",
      "After Transformation:Index:6,x:tensor([3., 3.]),y:tensor([2.])\n",
      "Before Transformation:Index:7,x:tensor([2., 2.]),y:tensor([1.])\n",
      "After Transformation:Index:7,x:tensor([3., 3.]),y:tensor([2.])\n",
      "Before Transformation:Index:8,x:tensor([2., 2.]),y:tensor([1.])\n",
      "After Transformation:Index:8,x:tensor([3., 3.]),y:tensor([2.])\n",
      "Before Transformation:Index:9,x:tensor([2., 2.]),y:tensor([1.])\n",
      "After Transformation:Index:9,x:tensor([3., 3.]),y:tensor([2.])\n"
     ]
    }
   ],
   "source": [
    "for i in range(10):\n",
    "    x,y = data_set[i]\n",
    "    print(f'Before Transformation:Index:{i},x:{x},y:{y}')\n",
    "    x_,y_ = a_m(data_set[i])\n",
    "    print(f'After Transformation:Index:{i},x:{x_},y:{y_}')\n",
    "    "
   ]
  },
  {
   "cell_type": "code",
   "execution_count": null,
   "metadata": {},
   "outputs": [],
   "source": [
    "cust_data = toy_set(transform=a_m)"
   ]
  },
  {
   "cell_type": "code",
   "execution_count": 41,
   "metadata": {},
   "outputs": [],
   "source": [
    "class mult(object):\n",
    "    def __init__(self,mult=100):\n",
    "        self.mult = mult\n",
    "    \n",
    "    def __call__(self,sample):\n",
    "        x = sample[0]\n",
    "        y = sample[1]\n",
    "        x = x * self.mult\n",
    "        y = y* self.mult\n",
    "        sample = x,y\n",
    "        return sample\n"
   ]
  },
  {
   "cell_type": "code",
   "execution_count": 42,
   "metadata": {},
   "outputs": [],
   "source": [
    "data_transforms = transforms.Compose([add_mult(),mult()])"
   ]
  },
  {
   "cell_type": "code",
   "execution_count": 43,
   "metadata": {},
   "outputs": [
    {
     "data": {
      "text/plain": [
       "(tensor([300., 300.]), tensor([200.]))"
      ]
     },
     "execution_count": 43,
     "metadata": {},
     "output_type": "execute_result"
    }
   ],
   "source": [
    "data_transforms(data_set[1])"
   ]
  },
  {
   "cell_type": "code",
   "execution_count": null,
   "metadata": {},
   "outputs": [],
   "source": []
  }
 ],
 "metadata": {
  "kernelspec": {
   "display_name": "Python 3",
   "language": "python",
   "name": "python3"
  },
  "language_info": {
   "codemirror_mode": {
    "name": "ipython",
    "version": 3
   },
   "file_extension": ".py",
   "mimetype": "text/x-python",
   "name": "python",
   "nbconvert_exporter": "python",
   "pygments_lexer": "ipython3",
   "version": "3.8.1"
  }
 },
 "nbformat": 4,
 "nbformat_minor": 4
}
